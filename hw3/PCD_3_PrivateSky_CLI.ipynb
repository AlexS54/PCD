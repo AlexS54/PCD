{
  "nbformat": 4,
  "nbformat_minor": 0,
  "metadata": {
    "colab": {
      "provenance": []
    },
    "kernelspec": {
      "name": "python3",
      "display_name": "Python 3"
    },
    "language_info": {
      "name": "python"
    }
  },
  "cells": [
    {
      "cell_type": "markdown",
      "source": [
        "Homework 3 PCD\n",
        "\n",
        "Stoica Alin-Alexandru\n",
        "\n",
        "Simion Ruben-Andrei"
      ],
      "metadata": {
        "id": "2ONFzRr_YLO8"
      }
    },
    {
      "cell_type": "markdown",
      "source": [
        "# 1. Justification for Using PrivateSky Technologies\n",
        "\n",
        "PrivateSky, developed by the Faculty of Computer Science at UAIC Iași, is a decentralized platform designed to handle secure data exchanges and storage. It is built upon the OpenDSU model, which offers several advantages that justify its use in this project:\n",
        "\n",
        "- End-to-End Privacy: All data is encrypted by default, and only authorized users can decrypt and modify it.\n",
        "\n",
        "- Decentralization: Data is stored in a distributed fashion without relying on centralized servers, reducing attack surfaces.\n",
        "\n",
        "- Self-Describing Units: Each DSU encapsulates its data, logic, and identity, making the platform modular and flexible.\n",
        "\n",
        "- Trustless Communication: Cryptographic verification ensures that only validated entities can interact.\n",
        "\n",
        "- Identity Isolation: Every user or entity operates within a separate enclave, minimizing data leakage risks.\n",
        "\n",
        "| Feature              | PrivateSky / OpenDSU             | Firebase / Firestore         |\n",
        "|----------------------|----------------------------------|-------------------------------|\n",
        "| Data Encryption      | Built-in, end-to-end             | Basic, not end-to-end         |\n",
        "| Decentralization     | Full (DSUs)                      | No                            |\n",
        "| Privacy by Design    | Yes                              | No                            |\n",
        "| Modular Architecture | High                             | Low                           |\n",
        "| Identity Isolation   | Strong                           | Weak                          |\n",
        "\n",
        "PrivateSky offers a balanced combination of strong privacy guarantees, cryptographic validation, and decentralized architecture, which are superior to many existing platforms that often compromise privacy for convenience."
      ],
      "metadata": {
        "id": "KOE_LcTkYTxy"
      }
    },
    {
      "cell_type": "markdown",
      "source": [
        "# 2. Project Presentation\n",
        "\n",
        "This project implements a Command-Line Interface (CLI) application that simulates a secure, encrypted file system. It allows users to interact with data using familiar Unix-like commands such as cd, ls, cat, echo, mkdir, put, and rm. The uniqueness of this project lies in its integration with PrivateSky and OpenDSU technologies to ensure strong privacy, cryptographic integrity, and decentralized data storage.\n",
        "\n",
        "The application is implemented in Node.js and uses OpenDSU APIs to manage secure data operations. Here's how it works:\n",
        "\n",
        "- CLI Parser: Interprets user input and routes it to corresponding file system functions.\n",
        "\n",
        "- Command Execution: Simulated file system commands (cd, ls, cat, echo, mkdir, put, rm) are mapped to CRUD operations on DSUs.\n",
        "\n",
        "- Secure Operations: All file and folder operations interact with encrypted DSUs.\n",
        "\n",
        "- Session Integrity: Every command is validated against the user’s identity enclave."
      ],
      "metadata": {
        "id": "c9TXeLhaZcL8"
      }
    },
    {
      "cell_type": "markdown",
      "source": [
        "The CLI app provides a secure interface to manage a virtual file system. Users can:\n",
        "\n",
        "- Navigate between directories (cd)\n",
        "\n",
        "- List contents of directories (ls)\n",
        "\n",
        "- Read file contents (cat)\n",
        "\n",
        "- Write to files (echo)\n",
        "\n",
        "- Upload content to a file (put)\n",
        "\n",
        "- Delete files (rm)\n",
        "\n",
        "- Create new directories (mkdir)\n",
        "\n",
        "All data operations are secure, private, and validated using cryptographic mechanisms."
      ],
      "metadata": {
        "id": "-xK5W_3xZy_W"
      }
    },
    {
      "cell_type": "markdown",
      "source": [
        "# 3. How OpenDSU Works and Its Role in PrivateSky\n",
        "\n",
        "OpenDSU (Open Data Storage Unit) is the fundamental building block used within PrivateSky. It encapsulates data, metadata, access policies, and cryptographic validation logic in a self-contained unit. OpenDSU is used to construct secure, versioned, and shareable data containers that can be independently verified and exchanged between participants.\n",
        "\n",
        "Implementation in PrivateSky:\n",
        "\n",
        "- Data Representation: Each DSU represents a file, directory, or logical data object. It includes its own cryptographic identifiers (keySSIs).\n",
        "\n",
        "- Resolver Infrastructure: The DSU resolver is used to locate, validate, and update DSUs using keySSIs, which function as both identifiers and access keys.\n",
        "\n",
        "- Security: Data stored in DSUs is encrypted at rest and in transit. Only authorized identities with the correct keySSI can decrypt and modify the data.\n",
        "\n",
        "- Version Control: DSUs support versioning, enabling traceability and rollback of data changes.\n",
        "\n",
        "- Inter-DSU Links: DSUs can reference each other through secure links, allowing complex data structures to be formed.\n",
        "\n",
        "By using OpenDSU, PrivateSky achieves a secure, decentralized, and verifiable data architecture that aligns perfectly with the CLI project’s need for privacy-preserving file operations.\n",
        "\n",
        "DSU Handshake Process:\n",
        "\n",
        "- Initiation: A secure enclave is initialized using OpenDSU. User identity and credentials are created or imported.\n",
        "\n",
        "- Handshake Execution: On command execution, the DSU resolver validates the origin and integrity of the DSU.\n",
        "\n",
        "- Validation: Public/private key pairs are used to ensure only authorized users can interact with or modify data.\n",
        "\n",
        "- Result: If validation succeeds, the command executes; if not, access is denied, ensuring strong session isolation."
      ],
      "metadata": {
        "id": "dVUPOLychHCt"
      }
    },
    {
      "cell_type": "markdown",
      "source": [
        "# 4. Summary\n",
        "This CLI project demonstrates how PrivateSky technologies can empower secure and private applications, even in simple command-line environments. By leveraging OpenDSU, the app guarantees privacy, verifiability, and modularity. Compared to other tools, it stands out due to its built-in encryption, decentralized architecture, and strong identity isolation."
      ],
      "metadata": {
        "id": "_Beyhh1chMb4"
      }
    }
  ]
}